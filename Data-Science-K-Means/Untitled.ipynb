{
 "cells": [
  {
   "cell_type": "code",
   "execution_count": null,
   "id": "a7b12e63",
   "metadata": {},
   "outputs": [],
   "source": [
    "\"\"\"\n",
    "Here's the Python code to load a CSV file, sort and filter the data, then plot two columns of the data against each other, with labeled points and axes:\n",
    "\n",
    "Python\n",
    "\"\"\""
   ]
  },
  {
   "cell_type": "code",
   "execution_count": 16,
   "id": "dd77b022",
   "metadata": {},
   "outputs": [
    {
     "data": {
      "image/png": "[encoded data removed]",
      "text/plain": [
       "<Figure size 432x288 with 1 Axes>"
      ]
     },
     "metadata": {
      "needs_background": "light"
     },
     "output_type": "display_data"
    }
   ],
   "source": [
    "\n",
    "import pandas as pd\n",
    "import matplotlib.pyplot as plt\n",
    "\n",
    "# Load the CSV file into a DataFrame\n",
    "df = pd.read_csv('happyscore_income.csv')\n",
    "\n",
    "# Sort the data by the 'happiness' column in descending order\n",
    "df = df.sort_values(by='happyScore', ascending=False)\n",
    "\n",
    "# Filter the data to include only records where the 'average_income' is greater than 50,000\n",
    "df_filtered = df[df['avg_income'] > 50000]\n",
    "\n",
    "# Plot the 'happiness' column against the 'average_income' column\n",
    "plt.scatter(df_filtered['avg_income'], df_filtered['happyScore'])\n",
    "\n",
    "# Label the x and y axes\n",
    "plt.xlabel('Average Income')\n",
    "plt.ylabel('Happyness')\n",
    "\n",
    "# Label data points of interest\n",
    "plt.annotate('Highest Happiness', (df_filtered['avg_income'].max(), df_filtered['happyScore'].max()), fontsize=12, color='blue')\n",
    "#lt.annotate('Highest Happiness', (df_filtered['avg_income'].max(), df_filtered['happiness'].max()), fontsize=12, color='blue')\n",
    "#lt.annotate('Lowest Happiness', (df_filtered['avg_ncome'].min(), df_filtered['happiness'].min()), fontsize=12, color='red')\n",
    "plt.annotate('Lowest Happiness', (df_filtered['avg_income'].min(), df_filtered['happyScore'].min()), fontsize=12, color='red')\n",
    "\n",
    "# Show the plot\n",
    "plt.show()\n",
    "\n"
   ]
  },
  {
   "cell_type": "code",
   "execution_count": 17,
   "id": "42d85317",
   "metadata": {},
   "outputs": [
    {
     "data": {
      "text/plain": [
       "\"\\nExplanation:\\n\\nI chose to plot the 'happiness' column against the 'average_income' column because I was interested in seeing if there was a correlation between the two.\\nI sorted the data by the 'happiness' column in descending order to make it easier to see the relationship between the two variables.\\nI filtered the data to include only records where the 'average_income' is greater than 50,000 because I was interested in seeing if the relationship between happiness and income was different for people with higher incomes.\\nI labeled the 'Highest Happiness' and 'Lowest Happiness' data points because I thought they were interesting examples of the relationship between happiness and income. The 'Highest Happiness' data point has the highest average income and the highest happiness score, \\nwhile the 'Lowest Happiness' data point has the lowest average income and the lowest happiness score.\\n\\n\""
      ]
     },
     "execution_count": 17,
     "metadata": {},
     "output_type": "execute_result"
    }
   ],
   "source": [
    "\"\"\"\n",
    "Explanation:\n",
    "\n",
    "I chose to plot the 'happiness' column against the 'average_income' column because I was interested in seeing if there was a correlation between the two.\n",
    "I sorted the data by the 'happiness' column in descending order to make it easier to see the relationship between the two variables.\n",
    "I filtered the data to include only records where the 'average_income' is greater than 50,000 because I was interested in seeing if the relationship between happiness and income was different for people with higher incomes.\n",
    "I labeled the 'Highest Happiness' and 'Lowest Happiness' data points because I thought they were interesting examples of the relationship between happiness and income. The 'Highest Happiness' data point has the highest average income and the highest happiness score, \n",
    "while the 'Lowest Happiness' data point has the lowest average income and the lowest happiness score.\n",
    "\n",
    "\"\"\""
   ]
  },
  {
   "cell_type": "code",
   "execution_count": null,
   "id": "757a4e8c",
   "metadata": {},
   "outputs": [],
   "source": []
  },
  {
   "cell_type": "code",
   "execution_count": null,
   "id": "d06b9332",
   "metadata": {},
   "outputs": [],
   "source": []
  },
  {
   "cell_type": "code",
   "execution_count": null,
   "id": "7a463c9b",
   "metadata": {},
   "outputs": [],
   "source": []
  },
  {
   "cell_type": "code",
   "execution_count": null,
   "id": "6cb654fb",
   "metadata": {},
   "outputs": [],
   "source": []
  },
  {
   "cell_type": "code",
   "execution_count": null,
   "id": "5eecb8f3",
   "metadata": {},
   "outputs": [],
   "source": []
  },
  {
   "cell_type": "code",
   "execution_count": null,
   "id": "d466a674",
   "metadata": {},
   "outputs": [],
   "source": []
  }
 ],
 "metadata": {
  "kernelspec": {
   "display_name": "Python 3",
   "language": "python",
   "name": "python3"
  },
  "language_info": {
   "codemirror_mode": {
    "name": "ipython",
    "version": 3
   },
   "file_extension": ".py",
   "mimetype": "text/x-python",
   "name": "python",
   "nbconvert_exporter": "python",
   "pygments_lexer": "ipython3",
   "version": "3.8.8"
  }
 },
 "nbformat": 4,
 "nbformat_minor": 5
}
