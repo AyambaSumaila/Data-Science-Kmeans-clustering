{
 "cells": [
  {
   "cell_type": "markdown",
   "id": "78dcefde",
   "metadata": {
    "_cell_guid": "0e6e831f-a3bb-477d-84fe-3c0a836ef139",
    "_uuid": "5e13c8ee-e7ea-4a01-93f2-2ad1a2eb95f0",
    "papermill": {
     "duration": 0.003681,
     "end_time": "2023-11-03T14:25:38.655466",
     "exception": false,
     "start_time": "2023-11-03T14:25:38.651785",
     "status": "completed"
    },
    "tags": []
   },
   "source": [
    "This is a look on the happiness data of different countries and the amount of income earned by majority of people in that country. \n",
    "\n",
    "In this project I will seek to answer the question: **is happiness of a country correllated with the average income of its people? \n",
    "\n",
    "The data is already cleaned, therefore I went straight to analysis."
   ]
  },
  {
   "cell_type": "code",
   "execution_count": 2,
   "id": "dde31c8b",
   "metadata": {
    "_cell_guid": "852b5b48-28a5-412e-b848-75495a72e55d",
    "_uuid": "1ae47145-0279-48ae-9fd0-ede088f5cb4a",
    "execution": {
     "iopub.execute_input": "2023-11-03T14:25:38.664491Z",
     "iopub.status.busy": "2023-11-03T14:25:38.664007Z",
     "iopub.status.idle": "2023-11-03T14:25:38.745525Z",
     "shell.execute_reply": "2023-11-03T14:25:38.743537Z"
    },
    "jupyter": {
     "outputs_hidden": false
    },
    "papermill": {
     "duration": 0.089405,
     "end_time": "2023-11-03T14:25:38.748765",
     "exception": false,
     "start_time": "2023-11-03T14:25:38.659360",
     "status": "completed"
    },
    "tags": []
   },
   "outputs": [
    {
     "data": {
      "text/html": [
       "<div>\n",
       "<style scoped>\n",
       "    .dataframe tbody tr th:only-of-type {\n",
       "        vertical-align: middle;\n",
       "    }\n",
       "\n",
       "    .dataframe tbody tr th {\n",
       "        vertical-align: top;\n",
       "    }\n",
       "\n",
       "    .dataframe thead th {\n",
       "        text-align: right;\n",
       "    }\n",
       "</style>\n",
       "<table border=\"1\" class=\"dataframe\">\n",
       "  <thead>\n",
       "    <tr style=\"text-align: right;\">\n",
       "      <th></th>\n",
       "      <th>country</th>\n",
       "      <th>adjusted_satisfaction</th>\n",
       "      <th>avg_satisfaction</th>\n",
       "      <th>std_satisfaction</th>\n",
       "      <th>avg_income</th>\n",
       "      <th>median_income</th>\n",
       "      <th>income_inequality</th>\n",
       "      <th>region</th>\n",
       "      <th>happyScore</th>\n",
       "      <th>GDP</th>\n",
       "      <th>country.1</th>\n",
       "    </tr>\n",
       "  </thead>\n",
       "  <tbody>\n",
       "    <tr>\n",
       "      <th>49</th>\n",
       "      <td>Italy</td>\n",
       "      <td>57.0</td>\n",
       "      <td>6.6</td>\n",
       "      <td>1.81</td>\n",
       "      <td>15437.595000</td>\n",
       "      <td>13163.070000</td>\n",
       "      <td>34.126250</td>\n",
       "      <td>'Western Europe'</td>\n",
       "      <td>5.948</td>\n",
       "      <td>1.25114</td>\n",
       "      <td>Italy</td>\n",
       "    </tr>\n",
       "    <tr>\n",
       "      <th>44</th>\n",
       "      <td>Ireland</td>\n",
       "      <td>64.0</td>\n",
       "      <td>7.5</td>\n",
       "      <td>1.85</td>\n",
       "      <td>16657.770000</td>\n",
       "      <td>13823.160000</td>\n",
       "      <td>32.418750</td>\n",
       "      <td>'Western Europe'</td>\n",
       "      <td>6.940</td>\n",
       "      <td>1.33596</td>\n",
       "      <td>Ireland</td>\n",
       "    </tr>\n",
       "    <tr>\n",
       "      <th>90</th>\n",
       "      <td>Sweden</td>\n",
       "      <td>67.0</td>\n",
       "      <td>7.8</td>\n",
       "      <td>1.72</td>\n",
       "      <td>17032.755000</td>\n",
       "      <td>15166.605000</td>\n",
       "      <td>26.950000</td>\n",
       "      <td>'Western Europe'</td>\n",
       "      <td>7.364</td>\n",
       "      <td>1.33171</td>\n",
       "      <td>Sweden</td>\n",
       "    </tr>\n",
       "    <tr>\n",
       "      <th>36</th>\n",
       "      <td>United Kingdom</td>\n",
       "      <td>60.0</td>\n",
       "      <td>7.1</td>\n",
       "      <td>1.98</td>\n",
       "      <td>17099.550000</td>\n",
       "      <td>14172.735000</td>\n",
       "      <td>34.432500</td>\n",
       "      <td>'Western Europe'</td>\n",
       "      <td>6.867</td>\n",
       "      <td>1.26637</td>\n",
       "      <td>United Kingdom</td>\n",
       "    </tr>\n",
       "    <tr>\n",
       "      <th>7</th>\n",
       "      <td>Belgium</td>\n",
       "      <td>63.0</td>\n",
       "      <td>7.2</td>\n",
       "      <td>1.72</td>\n",
       "      <td>17168.505000</td>\n",
       "      <td>15166.455000</td>\n",
       "      <td>28.745000</td>\n",
       "      <td>'Western Europe'</td>\n",
       "      <td>6.937</td>\n",
       "      <td>1.30782</td>\n",
       "      <td>Belgium</td>\n",
       "    </tr>\n",
       "    <tr>\n",
       "      <th>33</th>\n",
       "      <td>Finland</td>\n",
       "      <td>70.0</td>\n",
       "      <td>7.9</td>\n",
       "      <td>1.53</td>\n",
       "      <td>17310.195000</td>\n",
       "      <td>14962.560000</td>\n",
       "      <td>27.723750</td>\n",
       "      <td>'Western Europe'</td>\n",
       "      <td>7.406</td>\n",
       "      <td>1.29025</td>\n",
       "      <td>Finland</td>\n",
       "    </tr>\n",
       "    <tr>\n",
       "      <th>27</th>\n",
       "      <td>Denmark</td>\n",
       "      <td>74.0</td>\n",
       "      <td>8.4</td>\n",
       "      <td>1.53</td>\n",
       "      <td>17496.510000</td>\n",
       "      <td>15630.885000</td>\n",
       "      <td>28.155000</td>\n",
       "      <td>'Western Europe'</td>\n",
       "      <td>7.527</td>\n",
       "      <td>1.32548</td>\n",
       "      <td>Denmark</td>\n",
       "    </tr>\n",
       "    <tr>\n",
       "      <th>34</th>\n",
       "      <td>France</td>\n",
       "      <td>52.0</td>\n",
       "      <td>6.4</td>\n",
       "      <td>2.15</td>\n",
       "      <td>18096.788571</td>\n",
       "      <td>14971.251429</td>\n",
       "      <td>32.255714</td>\n",
       "      <td>'Western Europe'</td>\n",
       "      <td>6.575</td>\n",
       "      <td>1.27778</td>\n",
       "      <td>France</td>\n",
       "    </tr>\n",
       "    <tr>\n",
       "      <th>76</th>\n",
       "      <td>Netherlands</td>\n",
       "      <td>69.0</td>\n",
       "      <td>7.6</td>\n",
       "      <td>1.38</td>\n",
       "      <td>18234.435000</td>\n",
       "      <td>15880.545000</td>\n",
       "      <td>29.271250</td>\n",
       "      <td>'Western Europe'</td>\n",
       "      <td>7.378</td>\n",
       "      <td>1.32944</td>\n",
       "      <td>Netherlands</td>\n",
       "    </tr>\n",
       "    <tr>\n",
       "      <th>48</th>\n",
       "      <td>Iceland</td>\n",
       "      <td>71.0</td>\n",
       "      <td>8.1</td>\n",
       "      <td>1.64</td>\n",
       "      <td>18828.345000</td>\n",
       "      <td>16179.315000</td>\n",
       "      <td>28.780000</td>\n",
       "      <td>'Western Europe'</td>\n",
       "      <td>7.561</td>\n",
       "      <td>1.30232</td>\n",
       "      <td>Iceland</td>\n",
       "    </tr>\n",
       "    <tr>\n",
       "      <th>25</th>\n",
       "      <td>Germany</td>\n",
       "      <td>61.0</td>\n",
       "      <td>7.2</td>\n",
       "      <td>1.99</td>\n",
       "      <td>19285.960000</td>\n",
       "      <td>16291.260000</td>\n",
       "      <td>31.541667</td>\n",
       "      <td>'Western Europe'</td>\n",
       "      <td>6.750</td>\n",
       "      <td>1.32792</td>\n",
       "      <td>Germany</td>\n",
       "    </tr>\n",
       "    <tr>\n",
       "      <th>3</th>\n",
       "      <td>Austria</td>\n",
       "      <td>59.0</td>\n",
       "      <td>7.2</td>\n",
       "      <td>2.11</td>\n",
       "      <td>19457.040000</td>\n",
       "      <td>16879.620000</td>\n",
       "      <td>30.296250</td>\n",
       "      <td>'Western Europe'</td>\n",
       "      <td>7.200</td>\n",
       "      <td>1.33723</td>\n",
       "      <td>Austria</td>\n",
       "    </tr>\n",
       "    <tr>\n",
       "      <th>4</th>\n",
       "      <td>Australia</td>\n",
       "      <td>65.0</td>\n",
       "      <td>7.6</td>\n",
       "      <td>1.80</td>\n",
       "      <td>19917.000000</td>\n",
       "      <td>15846.060000</td>\n",
       "      <td>35.285000</td>\n",
       "      <td>'Australia and New Zealand'</td>\n",
       "      <td>7.284</td>\n",
       "      <td>1.33358</td>\n",
       "      <td>Australia</td>\n",
       "    </tr>\n",
       "    <tr>\n",
       "      <th>16</th>\n",
       "      <td>Canada</td>\n",
       "      <td>69.0</td>\n",
       "      <td>8.0</td>\n",
       "      <td>1.71</td>\n",
       "      <td>20190.780000</td>\n",
       "      <td>16829.100000</td>\n",
       "      <td>33.790000</td>\n",
       "      <td>'North America'</td>\n",
       "      <td>7.427</td>\n",
       "      <td>1.32629</td>\n",
       "      <td>Canada</td>\n",
       "    </tr>\n",
       "    <tr>\n",
       "      <th>77</th>\n",
       "      <td>Norway</td>\n",
       "      <td>70.0</td>\n",
       "      <td>8.0</td>\n",
       "      <td>1.62</td>\n",
       "      <td>21877.710000</td>\n",
       "      <td>19477.620000</td>\n",
       "      <td>27.307500</td>\n",
       "      <td>'Western Europe'</td>\n",
       "      <td>7.522</td>\n",
       "      <td>1.45900</td>\n",
       "      <td>Norway</td>\n",
       "    </tr>\n",
       "    <tr>\n",
       "      <th>105</th>\n",
       "      <td>United States</td>\n",
       "      <td>62.0</td>\n",
       "      <td>7.3</td>\n",
       "      <td>1.92</td>\n",
       "      <td>23127.000000</td>\n",
       "      <td>17925.360000</td>\n",
       "      <td>41.090000</td>\n",
       "      <td>'North America'</td>\n",
       "      <td>7.119</td>\n",
       "      <td>1.39451</td>\n",
       "      <td>United States</td>\n",
       "    </tr>\n",
       "    <tr>\n",
       "      <th>17</th>\n",
       "      <td>Switzerland</td>\n",
       "      <td>70.0</td>\n",
       "      <td>8.0</td>\n",
       "      <td>1.62</td>\n",
       "      <td>23400.040000</td>\n",
       "      <td>19442.920000</td>\n",
       "      <td>32.930000</td>\n",
       "      <td>'Western Europe'</td>\n",
       "      <td>7.587</td>\n",
       "      <td>1.39651</td>\n",
       "      <td>Switzerland</td>\n",
       "    </tr>\n",
       "    <tr>\n",
       "      <th>61</th>\n",
       "      <td>Luxembourg</td>\n",
       "      <td>66.0</td>\n",
       "      <td>7.7</td>\n",
       "      <td>1.76</td>\n",
       "      <td>26182.275000</td>\n",
       "      <td>22240.230000</td>\n",
       "      <td>31.950000</td>\n",
       "      <td>'Western Europe'</td>\n",
       "      <td>6.946</td>\n",
       "      <td>1.56391</td>\n",
       "      <td>Luxembourg</td>\n",
       "    </tr>\n",
       "  </tbody>\n",
       "</table>\n",
       "</div>"
      ],
      "text/plain": [
       "            country  adjusted_satisfaction  avg_satisfaction  \\\n",
       "49            Italy                   57.0               6.6   \n",
       "44          Ireland                   64.0               7.5   \n",
       "90           Sweden                   67.0               7.8   \n",
       "36   United Kingdom                   60.0               7.1   \n",
       "7           Belgium                   63.0               7.2   \n",
       "33          Finland                   70.0               7.9   \n",
       "27          Denmark                   74.0               8.4   \n",
       "34           France                   52.0               6.4   \n",
       "76      Netherlands                   69.0               7.6   \n",
       "48          Iceland                   71.0               8.1   \n",
       "25          Germany                   61.0               7.2   \n",
       "3           Austria                   59.0               7.2   \n",
       "4         Australia                   65.0               7.6   \n",
       "16           Canada                   69.0               8.0   \n",
       "77           Norway                   70.0               8.0   \n",
       "105   United States                   62.0               7.3   \n",
       "17      Switzerland                   70.0               8.0   \n",
       "61       Luxembourg                   66.0               7.7   \n",
       "\n",
       "     std_satisfaction    avg_income  median_income  income_inequality  \\\n",
       "49               1.81  15437.595000   13163.070000          34.126250   \n",
       "44               1.85  16657.770000   13823.160000          32.418750   \n",
       "90               1.72  17032.755000   15166.605000          26.950000   \n",
       "36               1.98  17099.550000   14172.735000          34.432500   \n",
       "7                1.72  17168.505000   15166.455000          28.745000   \n",
       "33               1.53  17310.195000   14962.560000          27.723750   \n",
       "27               1.53  17496.510000   15630.885000          28.155000   \n",
       "34               2.15  18096.788571   14971.251429          32.255714   \n",
       "76               1.38  18234.435000   15880.545000          29.271250   \n",
       "48               1.64  18828.345000   16179.315000          28.780000   \n",
       "25               1.99  19285.960000   16291.260000          31.541667   \n",
       "3                2.11  19457.040000   16879.620000          30.296250   \n",
       "4                1.80  19917.000000   15846.060000          35.285000   \n",
       "16               1.71  20190.780000   16829.100000          33.790000   \n",
       "77               1.62  21877.710000   19477.620000          27.307500   \n",
       "105              1.92  23127.000000   17925.360000          41.090000   \n",
       "17               1.62  23400.040000   19442.920000          32.930000   \n",
       "61               1.76  26182.275000   22240.230000          31.950000   \n",
       "\n",
       "                          region  happyScore      GDP       country.1  \n",
       "49              'Western Europe'       5.948  1.25114           Italy  \n",
       "44              'Western Europe'       6.940  1.33596         Ireland  \n",
       "90              'Western Europe'       7.364  1.33171          Sweden  \n",
       "36              'Western Europe'       6.867  1.26637  United Kingdom  \n",
       "7               'Western Europe'       6.937  1.30782         Belgium  \n",
       "33              'Western Europe'       7.406  1.29025         Finland  \n",
       "27              'Western Europe'       7.527  1.32548         Denmark  \n",
       "34              'Western Europe'       6.575  1.27778          France  \n",
       "76              'Western Europe'       7.378  1.32944     Netherlands  \n",
       "48              'Western Europe'       7.561  1.30232         Iceland  \n",
       "25              'Western Europe'       6.750  1.32792         Germany  \n",
       "3               'Western Europe'       7.200  1.33723         Austria  \n",
       "4    'Australia and New Zealand'       7.284  1.33358       Australia  \n",
       "16               'North America'       7.427  1.32629          Canada  \n",
       "77              'Western Europe'       7.522  1.45900          Norway  \n",
       "105              'North America'       7.119  1.39451   United States  \n",
       "17              'Western Europe'       7.587  1.39651     Switzerland  \n",
       "61              'Western Europe'       6.946  1.56391      Luxembourg  "
      ]
     },
     "execution_count": 2,
     "metadata": {},
     "output_type": "execute_result"
    }
   ],
   "source": [
    "import pandas as pd\n",
    "import matplotlib.pyplot as plt\n",
    "\n",
    "data = pd.read_csv('happyscore_income.csv')\n",
    "data.sort_values('avg_income', inplace=True) # helps to sort through the data\n",
    "\n",
    "richest = data[data['avg_income'] >15000] # helps to filter through the data\n",
    "richest.iloc[0]  # how to pull out a row\n",
    "richest"
   ]
  },
  {
   "cell_type": "code",
   "execution_count": 3,
   "id": "31e88e1d",
   "metadata": {
    "_cell_guid": "e52253f3-563c-4de8-9b2a-a148d52f886a",
    "_uuid": "72339b90-b670-42f5-a56b-c5dfce5011e6",
    "execution": {
     "iopub.execute_input": "2023-11-03T14:25:38.757679Z",
     "iopub.status.busy": "2023-11-03T14:25:38.757224Z",
     "iopub.status.idle": "2023-11-03T14:25:38.768028Z",
     "shell.execute_reply": "2023-11-03T14:25:38.767199Z"
    },
    "jupyter": {
     "outputs_hidden": false
    },
    "papermill": {
     "duration": 0.018228,
     "end_time": "2023-11-03T14:25:38.770571",
     "exception": false,
     "start_time": "2023-11-03T14:25:38.752343",
     "status": "completed"
    },
    "tags": []
   },
   "outputs": [
    {
     "name": "stdout",
     "output_type": "stream",
     "text": [
      "       country  adjusted_satisfaction  avg_satisfaction  std_satisfaction  \\\n",
      "10     Burundi                   25.0               2.9              1.96   \n",
      "65  Madagascar                   33.0               3.7              1.86   \n",
      "58     Liberia                   37.0               4.4              2.02   \n",
      "72  Mozambique                   34.0               3.8              1.76   \n",
      "73       Niger                   34.0               3.8              1.75   \n",
      "\n",
      "    avg_income  median_income  income_inequality                region  \\\n",
      "10      572.88         436.92          33.360000  'Sub-Saharan Africa'   \n",
      "65      574.20         415.48          40.720000  'Sub-Saharan Africa'   \n",
      "58      653.04         528.72          36.480000  'Sub-Saharan Africa'   \n",
      "72      714.72         488.52          45.580000  'Sub-Saharan Africa'   \n",
      "73      718.40         535.56          37.726667  'Sub-Saharan Africa'   \n",
      "\n",
      "    happyScore      GDP   country.1  \n",
      "10       2.905  0.01530     Burundi  \n",
      "65       3.681  0.20824  Madagascar  \n",
      "58       4.571  0.07120     Liberia  \n",
      "72       4.971  0.08308  Mozambique  \n",
      "73       3.845  0.06940       Niger  \n"
     ]
    }
   ],
   "source": [
    "import pandas as pd\n",
    "\n",
    "df = data\n",
    "print(df.head())"
   ]
  },
  {
   "cell_type": "code",
   "execution_count": 6,
   "id": "07f96925",
   "metadata": {
    "_cell_guid": "ffa18ff3-0502-43e3-a543-d81477aa0ee8",
    "_uuid": "1d3e82d0-83ff-44b8-891b-04e6607c509d",
    "execution": {
     "iopub.execute_input": "2023-11-03T14:25:38.779452Z",
     "iopub.status.busy": "2023-11-03T14:25:38.779061Z",
     "iopub.status.idle": "2023-11-03T14:25:38.979102Z",
     "shell.execute_reply": "2023-11-03T14:25:38.978022Z"
    },
    "jupyter": {
     "outputs_hidden": false
    },
    "papermill": {
     "duration": 0.207759,
     "end_time": "2023-11-03T14:25:38.981679",
     "exception": false,
     "start_time": "2023-11-03T14:25:38.773920",
     "status": "completed"
    },
    "tags": []
   },
   "outputs": [
    {
     "data": {
      "image/png": "[encoded data removed]",
      "text/plain": [
       "<Figure size 432x288 with 1 Axes>"
      ]
     },
     "metadata": {
      "needs_background": "light"
     },
     "output_type": "display_data"
    }
   ],
   "source": [
    "data = pd.read_csv(\"happyscore_income.csv\")\n",
    "\n",
    "happy = data['happyScore']\n",
    "income = data['avg_income']\n",
    "ineq = data['income_inequality']\n",
    "\n",
    "plt.xlabel('income')\n",
    "plt.ylabel('happy')\n",
    "plt.scatter(income, happy, s= ineq*10, alpha=0.25)\n",
    "plt.show()"
   ]
  },
  {
   "cell_type": "code",
   "execution_count": 7,
   "id": "385274d4",
   "metadata": {
    "_cell_guid": "50f938f1-025f-4ec9-bfd5-5bfed32e73bc",
    "_uuid": "6ba58fb3-77d7-4f69-8142-74c1af87c38a",
    "execution": {
     "iopub.execute_input": "2023-11-03T14:25:38.992630Z",
     "iopub.status.busy": "2023-11-03T14:25:38.991294Z",
     "iopub.status.idle": "2023-11-03T14:25:40.919207Z",
     "shell.execute_reply": "2023-11-03T14:25:40.917981Z"
    },
    "jupyter": {
     "outputs_hidden": false
    },
    "papermill": {
     "duration": 1.936217,
     "end_time": "2023-11-03T14:25:40.922149",
     "exception": false,
     "start_time": "2023-11-03T14:25:38.985932",
     "status": "completed"
    },
    "tags": []
   },
   "outputs": [
    {
     "data": {
      "image/png": "[encoded data removed]",
      "text/plain": [
       "<Figure size 432x288 with 1 Axes>"
      ]
     },
     "metadata": {
      "needs_background": "light"
     },
     "output_type": "display_data"
    }
   ],
   "source": [
    "from sklearn.cluster import KMeans\n",
    "import numpy as np\n",
    "\n",
    "income_happy = np.column_stack((income, happy))\n",
    "\n",
    "km_result = KMeans(n_clusters=2).fit(income_happy)\n",
    "\n",
    "clusters = km_result.cluster_centers_\n",
    "\n",
    "plt.scatter(income, happy)\n",
    "plt.scatter(clusters[:, 0], clusters[:, 1], s=1000)\n",
    "plt.show()"
   ]
  },
  {
   "cell_type": "code",
   "execution_count": 8,
   "id": "0771aa3a",
   "metadata": {
    "_cell_guid": "c4babcda-0cf9-45ed-ae46-fa05526d7f8a",
    "_uuid": "06f5f9b6-8034-4e7f-a712-24629fe4f7db",
    "execution": {
     "iopub.execute_input": "2023-11-03T14:25:40.934219Z",
     "iopub.status.busy": "2023-11-03T14:25:40.933088Z",
     "iopub.status.idle": "2023-11-03T14:25:41.179892Z",
     "shell.execute_reply": "2023-11-03T14:25:41.176616Z"
    },
    "jupyter": {
     "outputs_hidden": false
    },
    "papermill": {
     "duration": 0.255848,
     "end_time": "2023-11-03T14:25:41.182827",
     "exception": false,
     "start_time": "2023-11-03T14:25:40.926979",
     "status": "completed"
    },
    "tags": []
   },
   "outputs": [
    {
     "data": {
      "image/png": "[encoded data removed]",
      "text/plain": [
       "<Figure size 432x288 with 1 Axes>"
      ]
     },
     "metadata": {
      "needs_background": "light"
     },
     "output_type": "display_data"
    }
   ],
   "source": [
    "data.sort_values('avg_income', inplace=True) # this is used to re-arrange data in order of either highest to lowest or vice versa\n",
    "richest = data[data['avg_income']> 15000]\n",
    "\n",
    "plt.scatter(richest['avg_income'], richest['happyScore'])\n",
    "\n",
    "for k,row in richest.iterrows(): #print out items in rows\n",
    "    plt.text(row['avg_income'],\n",
    "            row['happyScore'],\n",
    "            row['country'])\n",
    "    # print(row['country'])"
   ]
  },
  {
   "cell_type": "code",
   "execution_count": 10,
   "id": "f785c3de",
   "metadata": {
    "_cell_guid": "5dfcb14c-289d-4db0-8c9c-11da0815974f",
    "_uuid": "394c6f36-8acc-4ad1-be52-71002a8c5f46",
    "execution": {
     "iopub.execute_input": "2023-11-03T14:25:41.197131Z",
     "iopub.status.busy": "2023-11-03T14:25:41.195927Z",
     "iopub.status.idle": "2023-11-03T14:25:41.366276Z",
     "shell.execute_reply": "2023-11-03T14:25:41.364863Z"
    },
    "jupyter": {
     "outputs_hidden": false
    },
    "papermill": {
     "duration": 0.180361,
     "end_time": "2023-11-03T14:25:41.368617",
     "exception": false,
     "start_time": "2023-11-03T14:25:41.188256",
     "status": "completed"
    },
    "tags": []
   },
   "outputs": [
    {
     "data": {
      "image/png": "[encoded data removed]",
      "text/plain": [
       "<Figure size 432x288 with 1 Axes>"
      ]
     },
     "metadata": {
      "needs_background": "light"
     },
     "output_type": "display_data"
    }
   ],
   "source": [
    "import numpy as np\n",
    "import pandas as pd\n",
    "import matplotlib.pyplot as plt\n",
    "\n",
    "data = pd.read_csv('happyscore_income.csv') # this loads the csv file\n",
    "data.sort_values('avg_income', inplace=True) # this will sort and reorganise the data\n",
    "\n",
    "richest = data[data['avg_income'] > 15000] # this will filter through the data and get countries of people who make >15000\n",
    "richest.iloc[1] # this will pull out a column \n",
    "\n",
    "\n",
    "happy = data['happyScore']\n",
    "income = data['avg_income']\n",
    "\n",
    "plt.scatter(richest['avg_income'], richest['happyScore'])\n",
    "plt.xlabel('income')\n",
    "plt.ylabel('happy')\n",
    "plt.text(richest.iloc[6]['avg_income'],\n",
    "        richest.iloc[6]['happyScore'],\n",
    "        richest.iloc[6]['country']) # labels \n",
    "plt.show()"
   ]
  },
  {
   "cell_type": "markdown",
   "id": "f4626bc9",
   "metadata": {
    "_cell_guid": "db55f950-3710-4650-8731-62721acfcfb2",
    "_uuid": "0a6b25d4-6f73-4810-9e0d-137c933ada63",
    "papermill": {
     "duration": 0.004774,
     "end_time": "2023-11-03T14:25:41.378643",
     "exception": false,
     "start_time": "2023-11-03T14:25:41.373869",
     "status": "completed"
    },
    "tags": []
   },
   "source": [
    "I chose to plot the columns of the richest countries to see the relationship between the richest people and the level of happiness\n",
    "\n",
    "I used the sort_value function to sort through the data and reorganized the data in the order of highest to lowest in terms of their income\n",
    "\n",
    "I have singled out ##Denmark becase it has interesting data. Although Denmark has low income, it has registered happy people. This data is of interest as it shows the relationship between the average income of people and their level of income. Most countries have shown that the higher the income the more happy people are. A few countries such as Denmark have shown that the level of happiness is not relative to the average income. This means that there might be other factors that result in happiness other than the income generated"
   ]
  }
 ],
 "metadata": {
  "kernelspec": {
   "display_name": "Python 3",
   "language": "python",
   "name": "python3"
  },
  "language_info": {
   "codemirror_mode": {
    "name": "ipython",
    "version": 3
   },
   "file_extension": ".py",
   "mimetype": "text/x-python",
   "name": "python",
   "nbconvert_exporter": "python",
   "pygments_lexer": "ipython3",
   "version": "3.8.8"
  },
  "papermill": {
   "default_parameters": {},
   "duration": 15.70331,
   "end_time": "2023-11-03T14:25:42.311364",
   "environment_variables": {},
   "exception": null,
   "input_path": "__notebook__.ipynb",
   "output_path": "__notebook__.ipynb",
   "parameters": {},
   "start_time": "2023-11-03T14:25:26.608054",
   "version": "2.4.0"
  }
 },
 "nbformat": 4,
 "nbformat_minor": 5
}
